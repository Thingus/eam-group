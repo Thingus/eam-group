{
 "cells": [
  {
   "cell_type": "code",
   "execution_count": null,
   "metadata": {},
   "outputs": [],
   "source": [
    "################################################################################################\n",
    "# basic Python codes to read TROPOMI NO2 Level 2 files\n",
    "\n",
    "# set up working environment\n",
    "import os\n",
    "import glob\n",
    "import numpy  as np\n",
    "import pandas as pd\n",
    "import netCDF4 as nc   # don't know why \"xarray\" doesn't work for TropOMI\n",
    "%matplotlib inline\n",
    "import matplotlib.pyplot as plt\n",
    "from gamap_colormap import WhGrYlRd\n",
    "from mpl_toolkits.basemap import Basemap"
   ]
  },
  {
   "cell_type": "code",
   "execution_count": null,
   "metadata": {},
   "outputs": [],
   "source": [
    "################################################################################################\n",
    "# set working directory and load TROPOMI NO2 files\n",
    "os.chdir(\"/rds/projects/2018/maraisea-glu-01/Study/Research_Data/TROPOMI/TROPOMI_NO2/\")\n",
    "TropOMI_files = sorted(glob.glob('*.nc')) \n",
    "TropOMI_files"
   ]
  },
  {
   "cell_type": "code",
   "execution_count": null,
   "metadata": {},
   "outputs": [],
   "source": [
    "################################################################################################\n",
    "# open one sample TROPOMI NO2 file\n",
    "test = nc.Dataset(TropOMI_files[20], \"r\", format=\"NETCDF4\")\n",
    "print(test)\n",
    "\n",
    "# there are no dimensions(sizes) or variables(dimensions) at this level\n",
    "# \"root group\" describes the data\n",
    "# \"PRODUCT\" and \"METADATA\" groups listed at the bottom contain the variables"
   ]
  },
  {
   "cell_type": "code",
   "execution_count": null,
   "metadata": {},
   "outputs": [],
   "source": [
    "# \"PRODUCT\" group contains info about \"dimensions(sizes) + variables(dimensions) + group(SUPPORT_DATA) + more subgroups\"\n",
    "\n",
    "# open \"PRODUCT\" group\n",
    "test.groups['PRODUCT']         \n",
    "\n",
    "# list details of all variables within \"PRODUCT\" group\n",
    "test.groups['PRODUCT'].variables                           \n",
    "\n",
    "# extract the variable \"latitude\"\n",
    "test.groups['PRODUCT'].variables['latitude']\n",
    "\n",
    "# open \"SUPPORT_DATA\" group and its subgroups\n",
    "# notice the subgroups are listed at the bottom unless there is no more\n",
    "test.groups['PRODUCT']['SUPPORT_DATA']                    \n",
    "test.groups['PRODUCT']['SUPPORT_DATA']['GEOLOCATIONS']\n",
    "test.groups['PRODUCT']['SUPPORT_DATA']['DETAILED_RESULTS']\n",
    "test.groups['PRODUCT']['SUPPORT_DATA']['INPUT_DATA']\n",
    "\n",
    "# extract the variable in the subgroup\n",
    "test.groups['PRODUCT']['SUPPORT_DATA']['INPUT_DATA'].variables['eastward_wind']"
   ]
  },
  {
   "cell_type": "code",
   "execution_count": null,
   "metadata": {},
   "outputs": [],
   "source": [
    "# get variables needed\n",
    "lat  = test.groups['PRODUCT'].variables['latitude']\n",
    "lon  = test.groups['PRODUCT'].variables['longitude']\n",
    "Flag = test.groups['PRODUCT'].variables['qa_value']\n",
    "Pre  = test.groups['PRODUCT'].variables['nitrogendioxide_tropospheric_column_precision']\n",
    "NO2  = test.groups['PRODUCT'].variables['nitrogendioxide_tropospheric_column']\n",
    "wind_east  = test.groups['PRODUCT']['SUPPORT_DATA']['INPUT_DATA'].variables['eastward_wind']\n",
    "wind_north = test.groups['PRODUCT']['SUPPORT_DATA']['INPUT_DATA'].variables['northward_wind']\n",
    "\n",
    "# get NO2 attributes\n",
    "Fill_value = NO2._FillValue\n",
    "Unit_convert = NO2.multiplication_factor_to_convert_to_molecules_percm2"
   ]
  },
  {
   "cell_type": "code",
   "execution_count": null,
   "metadata": {},
   "outputs": [],
   "source": [
    "# get the values from variables\n",
    "lat  = test.groups['PRODUCT'].variables['latitude'][0][:][:]\n",
    "lon  = test.groups['PRODUCT'].variables['longitude'][0][:][:]\n",
    "Flag = test.groups['PRODUCT'].variables['qa_value'][0][:][:]\n",
    "Pre  = test.groups['PRODUCT'].variables['nitrogendioxide_tropospheric_column_precision'][0][:][:]\n",
    "\n",
    "# get the data as an array and mask fill/missing values\n",
    "NO2  = np.array(test.groups['PRODUCT'].variables['nitrogendioxide_tropospheric_column'][0][:][:])\n",
    "NO2[NO2==Fill_value]=np.nan\n",
    "\n",
    "# convert unit for TROPOMI NO2\n",
    "NO2 = NO2*Unit_convert \n",
    "\n",
    "# the NO2 range \n",
    "print(np.ma.masked_invalid(NO2).min(),np.ma.masked_invalid(NO2).max())"
   ]
  },
  {
   "cell_type": "code",
   "execution_count": null,
   "metadata": {},
   "outputs": [],
   "source": [
    "# Date of this observation\n",
    "date = test.time_reference.split(\"T\")[0]\n",
    "\n",
    "# convert date to weekday (0-6 Monday-Sunday)\n",
    "import datetime\n",
    "year,month,day = (int(x) for x in date.split('-'))    \n",
    "weekday = datetime.date(year, month, day).weekday()"
   ]
  },
  {
   "cell_type": "code",
   "execution_count": null,
   "metadata": {},
   "outputs": [],
   "source": [
    "# make the plot without any processing \n",
    "# can compare your plot with NASA Panapoly\n",
    "\n",
    "# set up the figure\n",
    "plt.figure(figsize=(25,20))\n",
    "data = np.ma.masked_array(NO2, np.isnan(NO2))\n",
    "\n",
    "# set map projection/resolution/domain\n",
    "m = Basemap(projection='cyl', resolution='l',llcrnrlat= -90, urcrnrlat = 90,llcrnrlon=-180, urcrnrlon = 180)\n",
    "\n",
    "# add coastlines\n",
    "m.drawcoastlines(linewidth=0.5)\n",
    "\n",
    "# add map grids and lat-lon labels\n",
    "m.drawparallels(np.arange(-90., 120., 30.), labels=[1, 0, 0, 0]) \n",
    "m.drawmeridians(np.arange(-180, 180., 45.), labels=[0, 0, 0, 1]) \n",
    "\n",
    "# plot TROPOMI NO2 values on map\n",
    "m.pcolormesh(lon, lat, data, latlon=True, cmap='jet',vmin = 0,vmax = 0.00003*Unit_convert)\n",
    "\n",
    "# add plot title\n",
    "\n",
    "product   = 'TROPOMI NO2'\n",
    "map_title = 'Sample plot'\n",
    "\n",
    "plt.title('{0}\\n{1}'.format(product,map_title), fontsize = 40) \n",
    "plt.show()"
   ]
  }
 ],
 "metadata": {
  "kernelspec": {
   "display_name": "Python 3",
   "language": "python",
   "name": "python3"
  },
  "language_info": {
   "codemirror_mode": {
    "name": "ipython",
    "version": 3
   },
   "file_extension": ".py",
   "mimetype": "text/x-python",
   "name": "python",
   "nbconvert_exporter": "python",
   "pygments_lexer": "ipython3",
   "version": "3.7.2"
  }
 },
 "nbformat": 4,
 "nbformat_minor": 2
}
