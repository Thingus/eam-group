{
 "cells": [
  {
   "cell_type": "code",
   "execution_count": 1,
   "metadata": {},
   "outputs": [],
   "source": [
    "#########################################################################################################\n",
    "# create/read/regrid masks for HEMCO emissions\n",
    "\n",
    "import os\n",
    "import sys\n",
    "import numpy as np\n",
    "np.set_printoptions(threshold=sys.maxsize) # to show the full numpy array\n",
    "import pandas as pd\n",
    "import xarray as xr\n",
    "%matplotlib inline\n",
    "import matplotlib.pyplot as plt\n",
    "from gamap_colormap import WhGrYlRd \n",
    "import cartopy.crs as ccrs\n",
    "import glob"
   ]
  },
  {
   "cell_type": "code",
   "execution_count": 4,
   "metadata": {
    "collapsed": true
   },
   "outputs": [
    {
     "name": "stdout",
     "output_type": "stream",
     "text": [
      "<xarray.DataArray 'lon' (lon: 145)>\n",
      "array([ 60.   ,  60.625,  61.25 ,  61.875,  62.5  ,  63.125,  63.75 ,  64.375,\n",
      "        65.   ,  65.625,  66.25 ,  66.875,  67.5  ,  68.125,  68.75 ,  69.375,\n",
      "        70.   ,  70.625,  71.25 ,  71.875,  72.5  ,  73.125,  73.75 ,  74.375,\n",
      "        75.   ,  75.625,  76.25 ,  76.875,  77.5  ,  78.125,  78.75 ,  79.375,\n",
      "        80.   ,  80.625,  81.25 ,  81.875,  82.5  ,  83.125,  83.75 ,  84.375,\n",
      "        85.   ,  85.625,  86.25 ,  86.875,  87.5  ,  88.125,  88.75 ,  89.375,\n",
      "        90.   ,  90.625,  91.25 ,  91.875,  92.5  ,  93.125,  93.75 ,  94.375,\n",
      "        95.   ,  95.625,  96.25 ,  96.875,  97.5  ,  98.125,  98.75 ,  99.375,\n",
      "       100.   , 100.625, 101.25 , 101.875, 102.5  , 103.125, 103.75 , 104.375,\n",
      "       105.   , 105.625, 106.25 , 106.875, 107.5  , 108.125, 108.75 , 109.375,\n",
      "       110.   , 110.625, 111.25 , 111.875, 112.5  , 113.125, 113.75 , 114.375,\n",
      "       115.   , 115.625, 116.25 , 116.875, 117.5  , 118.125, 118.75 , 119.375,\n",
      "       120.   , 120.625, 121.25 , 121.875, 122.5  , 123.125, 123.75 , 124.375,\n",
      "       125.   , 125.625, 126.25 , 126.875, 127.5  , 128.125, 128.75 , 129.375,\n",
      "       130.   , 130.625, 131.25 , 131.875, 132.5  , 133.125, 133.75 , 134.375,\n",
      "       135.   , 135.625, 136.25 , 136.875, 137.5  , 138.125, 138.75 , 139.375,\n",
      "       140.   , 140.625, 141.25 , 141.875, 142.5  , 143.125, 143.75 , 144.375,\n",
      "       145.   , 145.625, 146.25 , 146.875, 147.5  , 148.125, 148.75 , 149.375,\n",
      "       150.   ])\n",
      "Coordinates:\n",
      "  * lon      (lon) float64 60.0 60.62 61.25 61.88 ... 148.1 148.8 149.4 150.0\n",
      "Attributes:\n",
      "    long_name:  Longitude\n",
      "    units:      degrees_east\n",
      "    axis:       X\n",
      "##########################\n",
      "<xarray.DataArray 'lat' (lat: 133)>\n",
      "array([-11. , -10.5, -10. ,  -9.5,  -9. ,  -8.5,  -8. ,  -7.5,  -7. ,  -6.5,\n",
      "        -6. ,  -5.5,  -5. ,  -4.5,  -4. ,  -3.5,  -3. ,  -2.5,  -2. ,  -1.5,\n",
      "        -1. ,  -0.5,   0. ,   0.5,   1. ,   1.5,   2. ,   2.5,   3. ,   3.5,\n",
      "         4. ,   4.5,   5. ,   5.5,   6. ,   6.5,   7. ,   7.5,   8. ,   8.5,\n",
      "         9. ,   9.5,  10. ,  10.5,  11. ,  11.5,  12. ,  12.5,  13. ,  13.5,\n",
      "        14. ,  14.5,  15. ,  15.5,  16. ,  16.5,  17. ,  17.5,  18. ,  18.5,\n",
      "        19. ,  19.5,  20. ,  20.5,  21. ,  21.5,  22. ,  22.5,  23. ,  23.5,\n",
      "        24. ,  24.5,  25. ,  25.5,  26. ,  26.5,  27. ,  27.5,  28. ,  28.5,\n",
      "        29. ,  29.5,  30. ,  30.5,  31. ,  31.5,  32. ,  32.5,  33. ,  33.5,\n",
      "        34. ,  34.5,  35. ,  35.5,  36. ,  36.5,  37. ,  37.5,  38. ,  38.5,\n",
      "        39. ,  39.5,  40. ,  40.5,  41. ,  41.5,  42. ,  42.5,  43. ,  43.5,\n",
      "        44. ,  44.5,  45. ,  45.5,  46. ,  46.5,  47. ,  47.5,  48. ,  48.5,\n",
      "        49. ,  49.5,  50. ,  50.5,  51. ,  51.5,  52. ,  52.5,  53. ,  53.5,\n",
      "        54. ,  54.5,  55. ])\n",
      "Coordinates:\n",
      "  * lat      (lat) float64 -11.0 -10.5 -10.0 -9.5 -9.0 ... 53.5 54.0 54.5 55.0\n",
      "Attributes:\n",
      "    long_name:  Latitude\n",
      "    units:      degrees_north\n",
      "    axis:       Y\n"
     ]
    }
   ],
   "source": [
    "#########################################################################################################\n",
    "# your masks should match the spatial resolution of your GEOS-Chem model\n",
    "os.chdir(\"/rds/projects/2018/maraisea-glu-01/RDS/GEOSChem/MASK\")\n",
    "sample_data = xr.open_dataset(\"sample_GEOS-Chem_output_AS_nested.nc4\")\n",
    "print(sample_data['lon'],sample_data['lat'],sep=\"\\n##########################\\n\")"
   ]
  },
  {
   "cell_type": "code",
   "execution_count": 5,
   "metadata": {
    "collapsed": true
   },
   "outputs": [
    {
     "name": "stdout",
     "output_type": "stream",
     "text": [
      "[107.5   108.125 108.75  109.375 110.    110.625 111.25  111.875 112.5\n",
      " 113.125 113.75  114.375 115.    115.625 116.25  116.875 117.5   118.125\n",
      " 118.75  119.375 120.   ]\n",
      "##########################\n",
      "[32.  32.5 33.  33.5 34.  34.5 35.  35.5 36.  36.5 37.  37.5 38.  38.5\n",
      " 39.  39.5 40.  40.5 41.  41.5 42.  42.5 43. ]\n",
      "True True\n"
     ]
    }
   ],
   "source": [
    "#########################################################################################################\n",
    "# prepare the masks over North China Plain (NCP)\n",
    "\n",
    "# define the NCP domain (lon [ 107.5:122.5] lat [32:42])\n",
    "# coordinates are for GEOS-Chem grid centres, not the domain boundaries\n",
    "\n",
    "NCP_lon = np.arange(107.5,120.1,5/8) # (start,end+0.1,resolution)\n",
    "NCP_lat = np.arange(32,43.1,1/2)\n",
    "time = np.array(['2020-01-01T00:00:00.000000000'], dtype='datetime64[ns]')\n",
    "print(NCP_lon,NCP_lat,sep=\"\\n##########################\\n\")\n",
    "\n",
    "# double check if default GEOS-Chem grids contain all the NCP_lon and NCP_lat you've created\n",
    "set1 = set(NCP_lon.flatten())\n",
    "set2 = set(sample_data['lon'].values)\n",
    "set3 = set(NCP_lat.flatten())\n",
    "set4 = set(sample_data['lat'].values)\n",
    "print(set1.issubset(set2),set3.issubset(set4))"
   ]
  },
  {
   "cell_type": "code",
   "execution_count": 6,
   "metadata": {},
   "outputs": [],
   "source": [
    "#########################################################################################################\n",
    "# NO emission mask\n",
    "# a single emission factor guided by the model-surface comparison\n",
    "\n",
    "NO_mask = np.full((1,len(NCP_lat),len(NCP_lon)), 1.4)\n",
    "\n",
    "NO_mask = xr.DataArray(NO_mask, coords=[('time',time),('lat', NCP_lat),('lon', NCP_lon)])\n",
    "NO_mask.name = \"MASK\"\n",
    "NO_mask['lon'].attrs = {'long_name':'longitude','units':'degrees_east','axis':'X'}\n",
    "NO_mask['lat'].attrs = {'long_name':'Latitude','units':'degrees_north','axis':'Y'}\n",
    "NO_mask.attrs = {'long_name':'NO emission mask for North China Plain','units':'unitless'}\n",
    "NO_mask.to_netcdf(\"NCP_mask_NO_Gongda.nc\")"
   ]
  },
  {
   "cell_type": "code",
   "execution_count": 7,
   "metadata": {
    "collapsed": true
   },
   "outputs": [
    {
     "name": "stdout",
     "output_type": "stream",
     "text": [
      "    lat      lon  factor\n",
      "0  36.0  111.250    6.82\n",
      "1  36.0  113.125    3.31\n",
      "2  37.5  112.500    3.88\n",
      "3  38.0  112.500    2.19\n",
      "4  38.0  113.750    2.06\n",
      "5  38.5  112.500    3.74\n",
      "6  39.5  112.500    3.14\n",
      "36.0 111.25\n",
      "36.0 113.125\n",
      "37.5 112.5\n",
      "38.0 112.5\n",
      "38.0 113.75\n",
      "38.5 112.5\n",
      "39.5 112.5\n"
     ]
    }
   ],
   "source": [
    "#########################################################################################################\n",
    "# SO2 factor \n",
    "\n",
    "# read emission factors for SO2\n",
    "SO2_emission_factors = pd.read_csv(\"SO2_emission_factors.csv\")\n",
    "print(SO2_emission_factors)\n",
    "\n",
    "# locate the grids on map\n",
    "print(NCP_lat[8],NCP_lon[6])\n",
    "print(NCP_lat[8],NCP_lon[9])\n",
    "print(NCP_lat[11],NCP_lon[8])\n",
    "print(NCP_lat[12],NCP_lon[8])\n",
    "print(NCP_lat[12],NCP_lon[10])\n",
    "print(NCP_lat[13],NCP_lon[8])\n",
    "print(NCP_lat[15],NCP_lon[8])"
   ]
  },
  {
   "cell_type": "code",
   "execution_count": 8,
   "metadata": {},
   "outputs": [],
   "source": [
    "# set base = 1, then apply factors only for some target grids\n",
    "SO2_mask = np.ones((1,len(NCP_lat),len(NCP_lon)),dtype = float)\n",
    "\n",
    "# assign emission factors [time,lat,lon]\n",
    "SO2_mask[0,8,6] = 6.8\n",
    "SO2_mask[0,8,9] = 3.3 \n",
    "SO2_mask[0,11,8] = 3.9 \n",
    "SO2_mask[0,12,8] = 2.2 \n",
    "SO2_mask[0,12,10] = 2.1 \n",
    "SO2_mask[0,13,8] = 3.8 \n",
    "SO2_mask[0,15,8] = 3.1 \n",
    "\n",
    "# output the mask\n",
    "SO2_mask = xr.DataArray(SO2_mask, coords=[('time',time),('lat', NCP_lat),('lon', NCP_lon)])\n",
    "SO2_mask.name = \"MASK\"\n",
    "SO2_mask['lon'].attrs = {'long_name':'Longitude','units':'degrees_east','axis':'X'}\n",
    "SO2_mask['lat'].attrs = {'long_name':'Latitude','units':'degrees_north','axis':'Y'}\n",
    "SO2_mask.attrs = {'long_name':'SO2 emission mask for North China Plain','units':'unitless'}\n",
    "SO2_mask.to_netcdf(\"NCP_mask_SO2_Gongda.nc\")"
   ]
  },
  {
   "cell_type": "code",
   "execution_count": 6,
   "metadata": {},
   "outputs": [],
   "source": [
    "#########################################################################################################\n",
    "# CO emission factor\n",
    "# a single emission factor guided by the model-surface comparison\n",
    "\n",
    "NCP_mask_CO = np.full((1,len(NCP_lat),len(NCP_lon)), 2.4)\n",
    "\n",
    "NCP_mask_CO = xr.DataArray(NCP_mask_CO, coords=[('time',time),('lat', NCP_lat),('lon', NCP_lon)])\n",
    "NCP_mask_CO.name = \"MASK\"\n",
    "NCP_mask_CO['lon'].attrs = {'long_name':'Longitude','units':'degrees_east','axis':'X'}\n",
    "NCP_mask_CO['lat'].attrs = {'long_name':'Latitude','units':'degrees_north','axis':'Y'}\n",
    "NCP_mask_CO.attrs = {'long_name':'CO emission mask for North China Plain','units':'unitless'}\n",
    "NCP_mask_CO.to_netcdf(\"NCP_mask_CO_Gongda.nc\")"
   ]
  },
  {
   "cell_type": "code",
   "execution_count": 8,
   "metadata": {},
   "outputs": [],
   "source": [
    "#########################################################################################################\n",
    "# VOCs factor\n",
    "# here just try some values since there is no surface measurement\n",
    "\n",
    "VOCs_mask_1 = np.full((1,len(NCP_lat),len(NCP_lon)),1.5)\n",
    "VOCs_mask_1 = xr.DataArray(VOCs_mask_1, coords=[('time',time),('lat', NCP_lat),('lon', NCP_lon)])\n",
    "VOCs_mask_1.name = \"MASK\"\n",
    "VOCs_mask_1['lon'].attrs = {'long_name':'Longitude','units':'degrees_east','axis':'X'}\n",
    "VOCs_mask_1['lat'].attrs = {'long_name':'Latitude','units':'degrees_north','axis':'Y'}\n",
    "VOCs_mask_1.attrs = {'long_name':'VOCs emission mask for North China Plain','units':'unitless'}\n",
    "VOCs_mask_1.to_netcdf(\"NCP_mask_VOCs_1_Gongda.nc\")\n",
    "\n",
    "VOCs_mask_2 = np.full((1,len(NCP_lat),len(NCP_lon)),2)\n",
    "VOCs_mask_2 = xr.DataArray(VOCs_mask_2, coords=[('time',time),('lat', NCP_lat),('lon', NCP_lon)])\n",
    "VOCs_mask_2.name = \"MASK\"\n",
    "VOCs_mask_2['lon'].attrs = {'long_name':'Longitude','units':'degrees_east','axis':'X'}\n",
    "VOCs_mask_2['lat'].attrs = {'long_name':'Latitude','units':'degrees_north','axis':'Y'}\n",
    "VOCs_mask_2.attrs = {'long_name':'VOCs emission mask for North China Plain','units':'unitless'}\n",
    "VOCs_mask_2.to_netcdf(\"NCP_mask_VOCs_2_Gongda.nc\")"
   ]
  },
  {
   "cell_type": "code",
   "execution_count": 9,
   "metadata": {},
   "outputs": [],
   "source": [
    "#########################################################################################################\n",
    "# quick visualisation of your masks\n",
    "NO_mask  = xr.open_dataset(\"NCP_mask_NO_Gongda.nc\")\n",
    "SO2_mask = xr.open_dataset(\"NCP_mask_SO2_Gongda.nc\")\n",
    "CO_mask  = xr.open_dataset(\"NCP_mask_CO_Gongda.nc\")\n",
    "VOCs_mask_1 = xr.open_dataset(\"NCP_mask_VOCs_1_Gongda.nc\")\n",
    "VOCs_mask_2 = xr.open_dataset(\"NCP_mask_VOCs_2_Gongda.nc\")\n",
    "\n",
    "NO_mask  = NO_mask['MASK']\n",
    "SO2_mask = SO2_mask['MASK']\n",
    "CO_mask = CO_mask['MASK']\n",
    "VOCs_mask_1 = VOCs_mask_1['MASK']\n",
    "VOCs_mask_2 = VOCs_mask_2['MASK']"
   ]
  },
  {
   "cell_type": "code",
   "execution_count": 24,
   "metadata": {
    "collapsed": true
   },
   "outputs": [
    {
     "data": {
      "text/plain": [
       "<matplotlib.collections.QuadMesh at 0x2ba70dbb8588>"
      ]
     },
     "execution_count": 24,
     "metadata": {},
     "output_type": "execute_result"
    },
    {
     "data": {
      "image/png": "[encoded data removed]",
      "text/plain": [
       "<Figure size 432x288 with 2 Axes>"
      ]
     },
     "metadata": {
      "needs_background": "light"
     },
     "output_type": "display_data"
    }
   ],
   "source": [
    "# a quick plot\n",
    "\n",
    "from cartopy.io.shapereader import Reader\n",
    "from cartopy.feature import ShapelyFeature\n",
    "os.chdir('/rds/projects/2018/maraisea-glu-01/Study/Research_Data/BTH/domain/CHN_ADM')\n",
    "China_shape = r'CHN_ADM1.shp'\n",
    "china_map = ShapelyFeature(Reader(China_shape).geometries(),\n",
    "                               ccrs.PlateCarree(), edgecolor='black',facecolor='none')\n",
    "\n",
    "t= plt.axes(projection=ccrs.PlateCarree())\n",
    "t.add_feature(china_map)\n",
    "t.set_extent([100, 125, 30, 45], crs=ccrs.PlateCarree()) # [lon,lon,lat,lat]\n",
    "\n",
    "CO_mask.plot(ax=t,cmap=WhGrYlRd)"
   ]
  }
 ],
 "metadata": {
  "kernelspec": {
   "display_name": "Python 3",
   "language": "python",
   "name": "python3"
  },
  "language_info": {
   "codemirror_mode": {
    "name": "ipython",
    "version": 3
   },
   "file_extension": ".py",
   "mimetype": "text/x-python",
   "name": "python",
   "nbconvert_exporter": "python",
   "pygments_lexer": "ipython3",
   "version": "3.7.2"
  }
 },
 "nbformat": 4,
 "nbformat_minor": 2
}
